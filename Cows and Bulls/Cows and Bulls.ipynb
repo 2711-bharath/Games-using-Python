{
 "cells": [
  {
   "cell_type": "code",
   "execution_count": 20,
   "metadata": {},
   "outputs": [],
   "source": [
    "import random"
   ]
  },
  {
   "cell_type": "code",
   "execution_count": 27,
   "metadata": {},
   "outputs": [],
   "source": [
    "#global declaration\n",
    "num = []\n",
    "attempts = 0"
   ]
  },
  {
   "cell_type": "code",
   "execution_count": 28,
   "metadata": {},
   "outputs": [],
   "source": [
    "#Creating a random number without repeatations\n",
    "def making_num():\n",
    "    for i in range(4):\n",
    "        x = random.randrange(0,9)\n",
    "        num.append(x)\n",
    "    if len(num) > len(set(num)):\n",
    "        num.clear()\n",
    "        making_num()"
   ]
  },
  {
   "cell_type": "code",
   "execution_count": 29,
   "metadata": {},
   "outputs": [],
   "source": [
    "#Cows and Bulls Game logic\n",
    "\n",
    "def playgame():\n",
    "    global attempts\n",
    "    cows = 0\n",
    "    bulls = 0\n",
    "    attempts += 1\n",
    "    string = input(\"Enter a four digit number without repeatations : \")\n",
    "    guess = []\n",
    "    for i in range(len(string)):\n",
    "        guess.append(int(string[i]))\n",
    "    # print(guess)\n",
    "    for i in range(len(guess)):\n",
    "        if(num[i] == guess[i]):\n",
    "            bulls += 1\n",
    "    for i in range(len(guess)):\n",
    "        for j in range(4):\n",
    "            if(guess[i]==num[j]):\n",
    "                cows += 1\n",
    "    if(bulls == 4):\n",
    "        print(\"You have won after \",attempts,\" attempts!\")\n",
    "    elif(attempts<10 and bulls != 4):\n",
    "        print(\"You have guessed \",cows,\" cows and \",bulls,\" bulls\")\n",
    "        playgame()\n",
    "    else:\n",
    "        print(\"You have lost!\")"
   ]
  },
  {
   "cell_type": "code",
   "execution_count": null,
   "metadata": {},
   "outputs": [],
   "source": [
    "making_num()\n",
    "# print(num)\n",
    "attempts = 0\n",
    "playgame()"
   ]
  },
  {
   "cell_type": "code",
   "execution_count": null,
   "metadata": {},
   "outputs": [],
   "source": []
  }
 ],
 "metadata": {
  "kernelspec": {
   "display_name": "Python 3",
   "language": "python",
   "name": "python3"
  },
  "language_info": {
   "codemirror_mode": {
    "name": "ipython",
    "version": 3
   },
   "file_extension": ".py",
   "mimetype": "text/x-python",
   "name": "python",
   "nbconvert_exporter": "python",
   "pygments_lexer": "ipython3",
   "version": "3.7.4"
  }
 },
 "nbformat": 4,
 "nbformat_minor": 2
}
