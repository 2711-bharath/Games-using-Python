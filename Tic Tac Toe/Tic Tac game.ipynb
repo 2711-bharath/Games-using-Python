{
 "cells": [
  {
   "cell_type": "code",
   "execution_count": 25,
   "metadata": {},
   "outputs": [],
   "source": [
    "import pygame as pg,sys\n",
    "from pygame.locals import *\n",
    "import time"
   ]
  },
  {
   "cell_type": "code",
   "execution_count": 26,
   "metadata": {},
   "outputs": [],
   "source": [
    "# Global variables\n",
    "XO = 'x'\n",
    "winner = None\n",
    "draw = False\n",
    "width = 400\n",
    "height = 400\n",
    "white = (255,255,255)\n",
    "line_color = (10,10,10)"
   ]
  },
  {
   "cell_type": "code",
   "execution_count": 27,
   "metadata": {},
   "outputs": [],
   "source": [
    "#Matrix or tic-tac game display\n",
    "M = [[None]*3,[None]*3,[None]*3]"
   ]
  },
  {
   "cell_type": "code",
   "execution_count": 28,
   "metadata": {},
   "outputs": [],
   "source": [
    "#Initialize Pygame window\n",
    "pg.init()\n",
    "fps = 30\n",
    "CLOCK = pg.time.Clock()\n",
    "screen = pg.display.set_mode((width,height+100),0,32)\n",
    "pg.display.set_caption('Tic Tac')"
   ]
  },
  {
   "cell_type": "code",
   "execution_count": 29,
   "metadata": {},
   "outputs": [],
   "source": [
    "#Loading images\n",
    "opening = pg.image.load('tic tac python.png',)\n",
    "x_img = pg.image.load('x.png')\n",
    "o_img = pg.image.load('o.png')"
   ]
  },
  {
   "cell_type": "code",
   "execution_count": 30,
   "metadata": {},
   "outputs": [],
   "source": [
    "# Resizing images\n",
    "opening = pg.transform.scale(opening,(width,height+100))\n",
    "x_img = pg.transform.scale(x_img,(80,80))\n",
    "o_img = pg.transform.scale(o_img,(80,80))"
   ]
  },
  {
   "cell_type": "code",
   "execution_count": 31,
   "metadata": {},
   "outputs": [],
   "source": [
    "def game_opening():\n",
    "    screen.blit(opening,(0,0))\n",
    "    pg.display.update()\n",
    "    time.sleep(5)\n",
    "    screen.fill(white)\n",
    "    \n",
    "#   Drawing matrix in the screen\n",
    "#   Vertical lines\n",
    "    pg.draw.line(screen,line_color,(width/3,0),(width/3,height),7)\n",
    "    pg.draw.line(screen,line_color,(width/3*2,0),(width/3*2,height),7)\n",
    "#   Horizontal Lines\n",
    "    pg.draw.line(screen,line_color,(0,height/3),(width,height/3),7)\n",
    "    pg.draw.line(screen,line_color,(0,height/3*2),(width,height/3*2),7)\n",
    "    "
   ]
  },
  {
   "cell_type": "code",
   "execution_count": 32,
   "metadata": {},
   "outputs": [],
   "source": [
    "def draw_status():\n",
    "    global draw\n",
    "    \n",
    "    if winner is None:\n",
    "        message = XO.upper() + \"'s turn\"\n",
    "    else:\n",
    "        message = winner.upper() + \" won!\"\n",
    "    if draw:\n",
    "        message = 'Game Draw!'\n",
    "    \n",
    "    font = pg.font.Font(None,30)\n",
    "    text = font.render(message,1,white)\n",
    "    \n",
    "    # Copy the render message to the matrix\n",
    "    \n",
    "    screen.fill((0,0,0),(0,400,500,100))\n",
    "    text_rect = text.get_rect(center = (width/2,450))\n",
    "    screen.blit(text,text_rect)\n",
    "    pg.display.update()"
   ]
  },
  {
   "cell_type": "code",
   "execution_count": 33,
   "metadata": {},
   "outputs": [],
   "source": [
    "def check_win():\n",
    "    global M,winner,draw\n",
    "    \n",
    "    # check for the winning rows\n",
    "    for row in range(0,3):\n",
    "        if((M[row][0] == M[row][1] == M[row][2]) and (M[row][0] is not None)):\n",
    "            #this row win\n",
    "            winner = M[row][0]\n",
    "            #draw a line\n",
    "            pg.draw.line(screen,(250,0,0),(0,(row+1)*height/3 - height/6),(width,(row+1)*height/3 - height/6),4)\n",
    "            break\n",
    "    \n",
    "    # check for the winning columns\n",
    "    for col in range(0,3):\n",
    "        if((M[0][col] == M[1][col] == M[2][col]) and (M[0][col] is not None)):\n",
    "            #this col wins\n",
    "            winner = M[0][col]\n",
    "            #draw a line\n",
    "            pg.draw.line(screen,(250,0,0), ((col+1)*width/3 - width/6,0),((col+1)*width/3 -width/6,height),4)\n",
    "            break\n",
    "        \n",
    "    # check for diagnol winner\n",
    "    if((M[0][0] == M[1][1] == M[2][2]) and (M[0][0] is not None)):\n",
    "        #the diagnol win\n",
    "        winner = M[0][0]\n",
    "        #draw a line\n",
    "        pg.draw.line (screen, (250,70,70), (50, 50), (350, 350), 4)\n",
    "    if((M[0][2] == M[1][1] == M[2][0]) and (M[0][2] is not None)):\n",
    "        #the diagnol win\n",
    "        winner = M[1][1]\n",
    "        pg.draw.line (screen, (250,70,70), (350, 50), (50, 350), 4)\n",
    "    \n",
    "    if(all([all(row) for row in M]) and winner is None ):\n",
    "        draw = True\n",
    "        \n",
    "    draw_status()"
   ]
  },
  {
   "cell_type": "code",
   "execution_count": 34,
   "metadata": {},
   "outputs": [],
   "source": [
    "def drawXO(row,col):\n",
    "    global M,XO\n",
    "    \n",
    "    if row == 1:\n",
    "        posx = 30\n",
    "    if row == 2:\n",
    "        posx = width/3 + 30\n",
    "    if row == 3:\n",
    "        posx = width/3*2 + 30\n",
    "    \n",
    "    if col == 1:\n",
    "        posy = 30\n",
    "    if col == 2:\n",
    "        posy = height/3 + 30\n",
    "    if col == 3:\n",
    "        posy = height/3*2 + 30\n",
    "    \n",
    "    M[row-1][col-1] = XO\n",
    "    if(XO == 'x'):\n",
    "        screen.blit(x_img,(posy,posx))\n",
    "        XO = 'o'\n",
    "    else:\n",
    "        screen.blit(o_img,(posy,posx))\n",
    "        XO = 'x'\n",
    "    pg.display.update()"
   ]
  },
  {
   "cell_type": "code",
   "execution_count": 35,
   "metadata": {},
   "outputs": [],
   "source": [
    "def userclick():\n",
    "    #get coordinates of mouse click\n",
    "    x,y = pg.mouse.get_pos()\n",
    "    \n",
    "    #get column of mouse click (1-3)\n",
    "    if(x<width/3):\n",
    "        col = 1\n",
    "    elif (x<width/3*2):\n",
    "        col = 2\n",
    "    elif(x<width):\n",
    "        col = 3\n",
    "    else:\n",
    "        col = None\n",
    "   \n",
    "    #get row of mouse click (1-3)\n",
    "    if(y<height/3):\n",
    "        row = 1\n",
    "    elif (y<height/3*2):\n",
    "        row = 2\n",
    "    elif(y<height):\n",
    "        row = 3\n",
    "    else:\n",
    "        row = None\n",
    "    \n",
    "    if((row and col and M[row-1][col-1] is None)):\n",
    "        global XO\n",
    "        \n",
    "        drawXO(row,col)\n",
    "        check_win()"
   ]
  },
  {
   "cell_type": "code",
   "execution_count": 36,
   "metadata": {},
   "outputs": [],
   "source": [
    "def reset_game():\n",
    "    global M,winner,XO,draw\n",
    "    time.sleep(3)\n",
    "    XO = 'x'\n",
    "    draw = False\n",
    "    game_opening()\n",
    "    winner=None\n",
    "    M = [[None]*3,[None]*3,[None]*3]"
   ]
  },
  {
   "cell_type": "code",
   "execution_count": 37,
   "metadata": {},
   "outputs": [],
   "source": [
    "game_opening()"
   ]
  },
  {
   "cell_type": "code",
   "execution_count": 38,
   "metadata": {},
   "outputs": [
    {
     "ename": "AttributeError",
     "evalue": "module 'sys' has no attribute 'quit'",
     "output_type": "error",
     "traceback": [
      "\u001b[1;31m---------------------------------------------------------------------------\u001b[0m",
      "\u001b[1;31mAttributeError\u001b[0m                            Traceback (most recent call last)",
      "\u001b[1;32m<ipython-input-38-401c7bc90191>\u001b[0m in \u001b[0;36m<module>\u001b[1;34m\u001b[0m\n\u001b[0;32m      4\u001b[0m         \u001b[1;32mif\u001b[0m \u001b[0mevent\u001b[0m\u001b[1;33m.\u001b[0m\u001b[0mtype\u001b[0m \u001b[1;33m==\u001b[0m \u001b[0mQUIT\u001b[0m\u001b[1;33m:\u001b[0m\u001b[1;33m\u001b[0m\u001b[1;33m\u001b[0m\u001b[0m\n\u001b[0;32m      5\u001b[0m             \u001b[0mpg\u001b[0m\u001b[1;33m.\u001b[0m\u001b[0mquit\u001b[0m\u001b[1;33m(\u001b[0m\u001b[1;33m)\u001b[0m\u001b[1;33m\u001b[0m\u001b[1;33m\u001b[0m\u001b[0m\n\u001b[1;32m----> 6\u001b[1;33m             \u001b[0msys\u001b[0m\u001b[1;33m.\u001b[0m\u001b[0mquit\u001b[0m\u001b[1;33m(\u001b[0m\u001b[1;33m)\u001b[0m\u001b[1;33m\u001b[0m\u001b[1;33m\u001b[0m\u001b[0m\n\u001b[0m\u001b[0;32m      7\u001b[0m         \u001b[1;32melif\u001b[0m \u001b[0mevent\u001b[0m\u001b[1;33m.\u001b[0m\u001b[0mtype\u001b[0m \u001b[1;32mis\u001b[0m \u001b[0mMOUSEBUTTONDOWN\u001b[0m\u001b[1;33m:\u001b[0m\u001b[1;33m\u001b[0m\u001b[1;33m\u001b[0m\u001b[0m\n\u001b[0;32m      8\u001b[0m             \u001b[1;31m#the user clicked ,marked a box x or o\u001b[0m\u001b[1;33m\u001b[0m\u001b[1;33m\u001b[0m\u001b[1;33m\u001b[0m\u001b[0m\n",
      "\u001b[1;31mAttributeError\u001b[0m: module 'sys' has no attribute 'quit'"
     ]
    }
   ],
   "source": [
    "# run game forever\n",
    "while(True):\n",
    "    for event in pg.event.get():\n",
    "        if event.type == QUIT:\n",
    "            pg.quit()\n",
    "            sys.quit()\n",
    "        elif event.type is MOUSEBUTTONDOWN:\n",
    "            #the user clicked ,marked a box x or o\n",
    "            userclick()\n",
    "            if(winner or draw):\n",
    "                reset_game()\n",
    "    pg.display.update()\n",
    "    CLOCK.tick(fps)"
   ]
  },
  {
   "cell_type": "code",
   "execution_count": null,
   "metadata": {},
   "outputs": [],
   "source": []
  }
 ],
 "metadata": {
  "kernelspec": {
   "display_name": "Python 3",
   "language": "python",
   "name": "python3"
  },
  "language_info": {
   "codemirror_mode": {
    "name": "ipython",
    "version": 3
   },
   "file_extension": ".py",
   "mimetype": "text/x-python",
   "name": "python",
   "nbconvert_exporter": "python",
   "pygments_lexer": "ipython3",
   "version": "3.7.4"
  }
 },
 "nbformat": 4,
 "nbformat_minor": 2
}
